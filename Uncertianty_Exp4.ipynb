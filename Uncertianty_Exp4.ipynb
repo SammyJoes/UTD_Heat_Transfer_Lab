{
 "cells": [
  {
   "cell_type": "markdown",
   "id": "c01c5a8d-86a4-4b4d-99d1-036bd185b822",
   "metadata": {
    "tags": []
   },
   "source": [
    "# Imports"
   ]
  },
  {
   "cell_type": "code",
   "execution_count": 1,
   "id": "5d398c30-bab3-4b3b-8613-02d303fe8293",
   "metadata": {
    "tags": []
   },
   "outputs": [],
   "source": [
    "import sympy as smp\n",
    "import numpy as np"
   ]
  },
  {
   "cell_type": "markdown",
   "id": "8f5a7ba8-fa0c-4d50-aaa1-15788b3e9a4d",
   "metadata": {
    "tags": []
   },
   "source": [
    "# Variables"
   ]
  },
  {
   "cell_type": "code",
   "execution_count": 2,
   "id": "82e5a16f-c1db-4553-a044-7dd67e526ba3",
   "metadata": {
    "tags": []
   },
   "outputs": [],
   "source": [
    "t1 = 32 # Initial Temp\n",
    "dt = 150 #sec\n",
    "mc = (0.1064) * (0.39)\n",
    "a1 = 0.004028\n",
    "wt = 0.1 #dec C\n",
    "t2f, t2i, m = smp.symbols('t2f t2i m', real=True)"
   ]
  },
  {
   "cell_type": "markdown",
   "id": "399b3fd1-c8ed-415f-8c64-aeb30ff5bb39",
   "metadata": {
    "tags": []
   },
   "source": [
    "# Equations"
   ]
  },
  {
   "cell_type": "code",
   "execution_count": 3,
   "id": "e9859352-2fba-4a12-af70-31e106879449",
   "metadata": {
    "tags": []
   },
   "outputs": [],
   "source": [
    "M = (smp.log((t2f - t1), 10) - smp.log((t2i - t1), 10)) / dt\n",
    "alpha = -2.3026 * (mc / a1) * m"
   ]
  },
  {
   "cell_type": "code",
   "execution_count": 4,
   "id": "2d7877ae-e73d-437f-8469-3249265aefd5",
   "metadata": {
    "tags": []
   },
   "outputs": [
    {
     "data": {
      "text/latex": [
       "$\\displaystyle \\frac{\\log{\\left(t2f - 32 \\right)}}{150 \\log{\\left(10 \\right)}} - \\frac{\\log{\\left(t2i - 32 \\right)}}{150 \\log{\\left(10 \\right)}}$"
      ],
      "text/plain": [
       "log(t2f - 32)/(150*log(10)) - log(t2i - 32)/(150*log(10))"
      ]
     },
     "execution_count": 4,
     "metadata": {},
     "output_type": "execute_result"
    }
   ],
   "source": [
    "M"
   ]
  },
  {
   "cell_type": "code",
   "execution_count": 5,
   "id": "e740e28c-eabe-49c8-9705-10fd1588ab52",
   "metadata": {
    "tags": []
   },
   "outputs": [
    {
     "data": {
      "text/latex": [
       "$\\displaystyle - 23.7211245283019 m$"
      ],
      "text/plain": [
       "-23.7211245283019*m"
      ]
     },
     "execution_count": 5,
     "metadata": {},
     "output_type": "execute_result"
    }
   ],
   "source": [
    "alpha"
   ]
  },
  {
   "cell_type": "markdown",
   "id": "8a304da5-f488-4b5e-af02-9b87a6957115",
   "metadata": {
    "tags": []
   },
   "source": [
    "# Derivatives"
   ]
  },
  {
   "cell_type": "code",
   "execution_count": 6,
   "id": "abc66fc2-978a-4503-bb5b-e296b29c15d3",
   "metadata": {
    "tags": []
   },
   "outputs": [],
   "source": [
    "dmdtf = smp.diff(M, t2f)\n",
    "dmdti = smp.diff(M, t2i)\n",
    "dadm = smp.diff(alpha, m)"
   ]
  },
  {
   "cell_type": "code",
   "execution_count": 7,
   "id": "f766e19d-5ecb-4e5d-946b-877104934936",
   "metadata": {
    "tags": []
   },
   "outputs": [
    {
     "data": {
      "text/latex": [
       "$\\displaystyle \\frac{1}{150 \\left(t2f - 32\\right) \\log{\\left(10 \\right)}}$"
      ],
      "text/plain": [
       "1/(150*(t2f - 32)*log(10))"
      ]
     },
     "execution_count": 7,
     "metadata": {},
     "output_type": "execute_result"
    }
   ],
   "source": [
    "dmdtf"
   ]
  },
  {
   "cell_type": "code",
   "execution_count": 8,
   "id": "8c0304b4-3080-44b8-b7de-d708fc9cfcda",
   "metadata": {
    "tags": []
   },
   "outputs": [
    {
     "data": {
      "text/latex": [
       "$\\displaystyle - \\frac{1}{150 \\left(t2i - 32\\right) \\log{\\left(10 \\right)}}$"
      ],
      "text/plain": [
       "-1/(150*(t2i - 32)*log(10))"
      ]
     },
     "execution_count": 8,
     "metadata": {},
     "output_type": "execute_result"
    }
   ],
   "source": [
    "dmdti"
   ]
  },
  {
   "cell_type": "code",
   "execution_count": 9,
   "id": "066a3d3c-3174-474e-ace8-d731cae8f218",
   "metadata": {
    "tags": []
   },
   "outputs": [
    {
     "data": {
      "text/latex": [
       "$\\displaystyle -23.7211245283019$"
      ],
      "text/plain": [
       "-23.7211245283019"
      ]
     },
     "execution_count": 9,
     "metadata": {},
     "output_type": "execute_result"
    }
   ],
   "source": [
    "dadm"
   ]
  },
  {
   "cell_type": "markdown",
   "id": "de234fbb-2879-4b60-b9f7-3b1e1aa8f308",
   "metadata": {
    "tags": []
   },
   "source": [
    "# Eq / Diff Evaluated"
   ]
  },
  {
   "cell_type": "code",
   "execution_count": 10,
   "id": "f899edb4-9bd6-4b33-8e1e-1f0564e9fdd4",
   "metadata": {
    "tags": []
   },
   "outputs": [],
   "source": [
    "M_f = smp.lambdify([t2f, t2i], M)\n",
    "alpha_f = smp.lambdify(m, alpha)\n",
    "dmdtf_f = smp.lambdify(t2f, dmdtf)\n",
    "dmdti_f = smp.lambdify(t2i, dmdti)"
   ]
  },
  {
   "cell_type": "code",
   "execution_count": 11,
   "id": "f2fbf56d-d553-42b6-95fa-1fd81ba87e6e",
   "metadata": {
    "tags": []
   },
   "outputs": [
    {
     "name": "stdout",
     "output_type": "stream",
     "text": [
      "M = 2.569E-03\n",
      "Alpha = -6.094E-02\n",
      "dm/dtf = 4.258E-05\n",
      "dm/dti = -1.034E-04\n",
      "da/dm = -2.372E+1\n"
     ]
    }
   ],
   "source": [
    "# Change these values for different values of t2f and t2i\n",
    "T2F = 100 \n",
    "T2I = 60\n",
    "\n",
    "a = M_f(T2F, T2I)\n",
    "print(f'M = {a:.3E}')\n",
    "\n",
    "b = alpha_f(a)\n",
    "print(f'Alpha = {b:.3E}')\n",
    "\n",
    "c = dmdtf_f(T2F)\n",
    "print(f'dm/dtf = {c:.3E}')\n",
    "\n",
    "d = dmdti_f(T2I)\n",
    "print(f'dm/dti = {d:.3E}')\n",
    "\n",
    "e = smp.Float(dadm)\n",
    "print(f'da/dm = {e:.3E}')"
   ]
  },
  {
   "cell_type": "markdown",
   "id": "e53d188e-3724-41ca-88bc-b279e1d455e6",
   "metadata": {
    "tags": []
   },
   "source": [
    "# Uncertianty"
   ]
  },
  {
   "cell_type": "code",
   "execution_count": 12,
   "id": "b7936acf-ee83-4137-b316-12611927c908",
   "metadata": {
    "tags": []
   },
   "outputs": [
    {
     "name": "stdout",
     "output_type": "stream",
     "text": [
      "w_M = 1.118E-05\n",
      "w_Alpha = -2.653E-4\n"
     ]
    }
   ],
   "source": [
    "w_M = np.sqrt((c*wt)**2 + (d*wt)**2)\n",
    "print(f'w_M = {w_M:.3E}')\n",
    "\n",
    "w_Alpha = (e * w_M)\n",
    "print(f'w_Alpha = {w_Alpha:.3E}')"
   ]
  }
 ],
 "metadata": {
  "kernelspec": {
   "display_name": "Python 3 (ipykernel)",
   "language": "python",
   "name": "python3"
  },
  "language_info": {
   "codemirror_mode": {
    "name": "ipython",
    "version": 3
   },
   "file_extension": ".py",
   "mimetype": "text/x-python",
   "name": "python",
   "nbconvert_exporter": "python",
   "pygments_lexer": "ipython3",
   "version": "3.11.0"
  }
 },
 "nbformat": 4,
 "nbformat_minor": 5
}
